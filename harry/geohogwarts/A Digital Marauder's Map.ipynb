{
 "cells": [
  {
   "cell_type": "markdown",
   "metadata": {
    "deletable": true,
    "editable": true
   },
   "source": [
    "# The Digital Marauder's Map\n",
    "## Georeferencing Hogwarts"
   ]
  },
  {
   "cell_type": "markdown",
   "metadata": {
    "deletable": true,
    "editable": true
   },
   "source": [
    "### Ideas"
   ]
  },
  {
   "cell_type": "markdown",
   "metadata": {
    "deletable": true,
    "editable": true
   },
   "source": [
    "- Find a digital version of the *Marauder's Map* and have students georeference it (ask Iason for help?).\n",
    "- Restrict to:\n",
    "    - place names mentioned in the text? Add georeferential mark-up?\n",
    "    - restrict to instances of direct speech?\n",
    "- Train a Named Entity Recognizer (on top of Spacy), specifically for place names in the Potter-fandom.\n",
    "    - **Apply this to fanfiction and track how movements here differ from those in the original canon**\n",
    "- Goals:\n",
    "    - create (dynamic) heatmap of Hogwarts, tracking character motion:\n",
    "        - e.g. like https://www.youtube.com/watch?v=4gIhRkCcD4U\n",
    "        - or imitate the animation of the original Marauder's Map\n",
    "    - sentiment analysis of text surrounding place names"
   ]
  },
  {
   "cell_type": "code",
   "execution_count": null,
   "metadata": {
    "collapsed": true,
    "deletable": true,
    "editable": true
   },
   "outputs": [],
   "source": []
  }
 ],
 "metadata": {
  "kernelspec": {
   "display_name": "py36",
   "language": "python",
   "name": "py36"
  },
  "language_info": {
   "codemirror_mode": {
    "name": "ipython",
    "version": 3
   },
   "file_extension": ".py",
   "mimetype": "text/x-python",
   "name": "python",
   "nbconvert_exporter": "python",
   "pygments_lexer": "ipython3",
   "version": "3.6.1"
  }
 },
 "nbformat": 4,
 "nbformat_minor": 2
}
